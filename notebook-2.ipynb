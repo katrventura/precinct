{
 "cells": [
  {
   "cell_type": "markdown",
   "metadata": {},
   "source": [
    "## 2024 Precinct Map and Data Cleaning\n",
    "Baltimore City, Baltimore County, Anne Arundel, and Howard County"
   ]
  },
  {
   "cell_type": "code",
   "execution_count": 1,
   "metadata": {},
   "outputs": [],
   "source": [
    "import pandas as pd\n",
    "import geopandas as gpd\n",
    "import numpy as np"
   ]
  },
  {
   "cell_type": "markdown",
   "metadata": {},
   "source": [
    "## Join on Name"
   ]
  },
  {
   "cell_type": "code",
   "execution_count": 69,
   "metadata": {},
   "outputs": [],
   "source": [
    "coverage = pd.read_csv('data/coverage_area_results_2024.csv')\n",
    "shapefile = gpd.read_file('assets/precincts/precinct_simplified.geojson')"
   ]
  },
  {
   "cell_type": "code",
   "execution_count": 72,
   "metadata": {},
   "outputs": [
    {
     "name": "stdout",
     "output_type": "stream",
     "text": [
      "<class 'geopandas.geodataframe.GeoDataFrame'>\n",
      "RangeIndex: 2141 entries, 0 to 2140\n",
      "Data columns (total 14 columns):\n",
      " #   Column      Non-Null Count  Dtype   \n",
      "---  ------      --------------  -----   \n",
      " 0   OBJECTID    2141 non-null   int32   \n",
      " 1   COUNTY      2141 non-null   object  \n",
      " 2   GIS_SRC     2141 non-null   object  \n",
      " 3   JURSCODE    2141 non-null   object  \n",
      " 4   COUNTYNAME  2141 non-null   object  \n",
      " 5   NAME        2141 non-null   object  \n",
      " 6   VTD         2122 non-null   object  \n",
      " 7   LABEL       2140 non-null   object  \n",
      " 8   DATE_AGGRE  2141 non-null   object  \n",
      " 9   AGG_SRC     2141 non-null   object  \n",
      " 10  SRC_DATE    2141 non-null   object  \n",
      " 11  Shape_Leng  2141 non-null   float64 \n",
      " 12  Shape_Area  2141 non-null   float64 \n",
      " 13  geometry    2141 non-null   geometry\n",
      "dtypes: float64(2), geometry(1), int32(1), object(10)\n",
      "memory usage: 225.9+ KB\n"
     ]
    }
   ],
   "source": [
    "shapefile.info()"
   ]
  },
  {
   "cell_type": "code",
   "execution_count": 73,
   "metadata": {},
   "outputs": [
    {
     "name": "stdout",
     "output_type": "stream",
     "text": [
      "<class 'pandas.core.frame.DataFrame'>\n",
      "RangeIndex: 1942 entries, 0 to 1941\n",
      "Data columns (total 16 columns):\n",
      " #   Column      Non-Null Count  Dtype  \n",
      "---  ------      --------------  -----  \n",
      " 0   name        1942 non-null   object \n",
      " 1   prec_name   1942 non-null   int64  \n",
      " 2   sum_trump   1942 non-null   int64  \n",
      " 3   pct_trump   1940 non-null   float64\n",
      " 4   sum_harris  1942 non-null   int64  \n",
      " 5   pct_harris  1940 non-null   float64\n",
      " 6   sum_other   1942 non-null   int64  \n",
      " 7   pct_other   1940 non-null   float64\n",
      " 8   prec_sum    1942 non-null   int64  \n",
      " 9   leader      1942 non-null   object \n",
      " 10  number      1942 non-null   int64  \n",
      " 11  vtd_join    1942 non-null   int64  \n",
      " 12  county      1942 non-null   int64  \n",
      " 13  countyname  1942 non-null   object \n",
      " 14  label       1942 non-null   object \n",
      " 15  new_geo     1942 non-null   object \n",
      "dtypes: float64(3), int64(8), object(5)\n",
      "memory usage: 242.9+ KB\n"
     ]
    }
   ],
   "source": [
    "coverage.info()"
   ]
  },
  {
   "cell_type": "code",
   "execution_count": 26,
   "metadata": {},
   "outputs": [
    {
     "data": {
      "text/html": [
       "<div>\n",
       "<style scoped>\n",
       "    .dataframe tbody tr th:only-of-type {\n",
       "        vertical-align: middle;\n",
       "    }\n",
       "\n",
       "    .dataframe tbody tr th {\n",
       "        vertical-align: top;\n",
       "    }\n",
       "\n",
       "    .dataframe thead th {\n",
       "        text-align: right;\n",
       "    }\n",
       "</style>\n",
       "<table border=\"1\" class=\"dataframe\">\n",
       "  <thead>\n",
       "    <tr style=\"text-align: right;\">\n",
       "      <th></th>\n",
       "      <th>name</th>\n",
       "      <th>sum_trump</th>\n",
       "      <th>pct_trump</th>\n",
       "      <th>sum_harris</th>\n",
       "      <th>pct_harris</th>\n",
       "      <th>sum_other</th>\n",
       "      <th>pct_other</th>\n",
       "      <th>prec_sum</th>\n",
       "      <th>leader</th>\n",
       "    </tr>\n",
       "  </thead>\n",
       "  <tbody>\n",
       "    <tr>\n",
       "      <th>0</th>\n",
       "      <td>Allegany  Precinct 01-000</td>\n",
       "      <td>420</td>\n",
       "      <td>84.34</td>\n",
       "      <td>72</td>\n",
       "      <td>14.46</td>\n",
       "      <td>6</td>\n",
       "      <td>1.20</td>\n",
       "      <td>498</td>\n",
       "      <td>Trump</td>\n",
       "    </tr>\n",
       "    <tr>\n",
       "      <th>1</th>\n",
       "      <td>Allegany  Precinct 02-000</td>\n",
       "      <td>463</td>\n",
       "      <td>83.27</td>\n",
       "      <td>82</td>\n",
       "      <td>14.75</td>\n",
       "      <td>11</td>\n",
       "      <td>1.98</td>\n",
       "      <td>556</td>\n",
       "      <td>Trump</td>\n",
       "    </tr>\n",
       "    <tr>\n",
       "      <th>2</th>\n",
       "      <td>Allegany  Precinct 03-000</td>\n",
       "      <td>478</td>\n",
       "      <td>84.01</td>\n",
       "      <td>83</td>\n",
       "      <td>14.59</td>\n",
       "      <td>8</td>\n",
       "      <td>1.41</td>\n",
       "      <td>569</td>\n",
       "      <td>Trump</td>\n",
       "    </tr>\n",
       "    <tr>\n",
       "      <th>3</th>\n",
       "      <td>Allegany  Precinct 06-005</td>\n",
       "      <td>980</td>\n",
       "      <td>50.13</td>\n",
       "      <td>923</td>\n",
       "      <td>47.21</td>\n",
       "      <td>52</td>\n",
       "      <td>2.66</td>\n",
       "      <td>1955</td>\n",
       "      <td>Trump</td>\n",
       "    </tr>\n",
       "    <tr>\n",
       "      <th>4</th>\n",
       "      <td>Allegany  Precinct 06-006</td>\n",
       "      <td>664</td>\n",
       "      <td>68.74</td>\n",
       "      <td>282</td>\n",
       "      <td>29.19</td>\n",
       "      <td>20</td>\n",
       "      <td>2.07</td>\n",
       "      <td>966</td>\n",
       "      <td>Trump</td>\n",
       "    </tr>\n",
       "  </tbody>\n",
       "</table>\n",
       "</div>"
      ],
      "text/plain": [
       "                        name  sum_trump  pct_trump  sum_harris  pct_harris  \\\n",
       "0  Allegany  Precinct 01-000        420      84.34          72       14.46   \n",
       "1  Allegany  Precinct 02-000        463      83.27          82       14.75   \n",
       "2  Allegany  Precinct 03-000        478      84.01          83       14.59   \n",
       "3  Allegany  Precinct 06-005        980      50.13         923       47.21   \n",
       "4  Allegany  Precinct 06-006        664      68.74         282       29.19   \n",
       "\n",
       "   sum_other  pct_other  prec_sum leader  \n",
       "0          6       1.20       498  Trump  \n",
       "1         11       1.98       556  Trump  \n",
       "2          8       1.41       569  Trump  \n",
       "3         52       2.66      1955  Trump  \n",
       "4         20       2.07       966  Trump  "
      ]
     },
     "execution_count": 26,
     "metadata": {},
     "output_type": "execute_result"
    }
   ],
   "source": [
    "# drop columns in coverage\n",
    "# test = coverage\n",
    "# test.drop(columns=['prec_name', 'number', 'vtd_join', 'county', 'countyname', 'label', 'new_geo'], inplace=True)\n",
    "test.head()"
   ]
  },
  {
   "cell_type": "code",
   "execution_count": 28,
   "metadata": {},
   "outputs": [],
   "source": [
    "# concatenate the two dataframes\n",
    "merged = pd.merge(test, shapefile, left_on='name', right_on='NAME', how='left')  \n"
   ]
  },
  {
   "cell_type": "code",
   "execution_count": 32,
   "metadata": {},
   "outputs": [
    {
     "name": "stdout",
     "output_type": "stream",
     "text": [
      "<class 'pandas.core.frame.DataFrame'>\n",
      "RangeIndex: 1949 entries, 0 to 1948\n",
      "Data columns (total 23 columns):\n",
      " #   Column      Non-Null Count  Dtype   \n",
      "---  ------      --------------  -----   \n",
      " 0   name        1949 non-null   object  \n",
      " 1   sum_trump   1949 non-null   int64   \n",
      " 2   pct_trump   1947 non-null   float64 \n",
      " 3   sum_harris  1949 non-null   int64   \n",
      " 4   pct_harris  1947 non-null   float64 \n",
      " 5   sum_other   1949 non-null   int64   \n",
      " 6   pct_other   1947 non-null   float64 \n",
      " 7   prec_sum    1949 non-null   int64   \n",
      " 8   leader      1949 non-null   object  \n",
      " 9   OBJECTID    1948 non-null   float64 \n",
      " 10  COUNTY      1948 non-null   object  \n",
      " 11  GIS_SRC     1948 non-null   object  \n",
      " 12  JURSCODE    1948 non-null   object  \n",
      " 13  COUNTYNAME  1948 non-null   object  \n",
      " 14  NAME        1948 non-null   object  \n",
      " 15  VTD         1935 non-null   object  \n",
      " 16  LABEL       1948 non-null   object  \n",
      " 17  DATE_AGGRE  1948 non-null   object  \n",
      " 18  AGG_SRC     1948 non-null   object  \n",
      " 19  SRC_DATE    1948 non-null   object  \n",
      " 20  Shape_Leng  1948 non-null   float64 \n",
      " 21  Shape_Area  1948 non-null   float64 \n",
      " 22  geometry    1948 non-null   geometry\n",
      "dtypes: float64(6), geometry(1), int64(4), object(12)\n",
      "memory usage: 350.3+ KB\n"
     ]
    }
   ],
   "source": [
    "merged.info()"
   ]
  },
  {
   "cell_type": "code",
   "execution_count": 33,
   "metadata": {},
   "outputs": [],
   "source": [
    "merged.drop(columns=['NAME'], inplace=True)"
   ]
  },
  {
   "cell_type": "code",
   "execution_count": 36,
   "metadata": {},
   "outputs": [],
   "source": [
    "# save merged as a geojson\n",
    "\n",
    "gdf = gpd.GeoDataFrame(merged, geometry='geometry')\n",
    "gdf.to_file('data/coverage_area_results_2024.geojson', driver='GeoJSON')"
   ]
  },
  {
   "cell_type": "code",
   "execution_count": 70,
   "metadata": {},
   "outputs": [
    {
     "name": "stdout",
     "output_type": "stream",
     "text": [
      "<class 'pandas.core.frame.DataFrame'>\n",
      "RangeIndex: 1942 entries, 0 to 1941\n",
      "Data columns (total 16 columns):\n",
      " #   Column      Non-Null Count  Dtype  \n",
      "---  ------      --------------  -----  \n",
      " 0   name        1942 non-null   object \n",
      " 1   prec_name   1942 non-null   int64  \n",
      " 2   sum_trump   1942 non-null   int64  \n",
      " 3   pct_trump   1940 non-null   float64\n",
      " 4   sum_harris  1942 non-null   int64  \n",
      " 5   pct_harris  1940 non-null   float64\n",
      " 6   sum_other   1942 non-null   int64  \n",
      " 7   pct_other   1940 non-null   float64\n",
      " 8   prec_sum    1942 non-null   int64  \n",
      " 9   leader      1942 non-null   object \n",
      " 10  number      1942 non-null   int64  \n",
      " 11  vtd_join    1942 non-null   int64  \n",
      " 12  county      1942 non-null   int64  \n",
      " 13  countyname  1942 non-null   object \n",
      " 14  label       1942 non-null   object \n",
      " 15  new_geo     1942 non-null   object \n",
      "dtypes: float64(3), int64(8), object(5)\n",
      "memory usage: 242.9+ KB\n"
     ]
    }
   ],
   "source": [
    "coverage.info()"
   ]
  },
  {
   "cell_type": "code",
   "execution_count": 71,
   "metadata": {},
   "outputs": [
    {
     "data": {
      "text/plain": [
       "leader\n",
       "Harris    1396\n",
       "Trump      546\n",
       "Name: count, dtype: int64"
      ]
     },
     "execution_count": 71,
     "metadata": {},
     "output_type": "execute_result"
    }
   ],
   "source": [
    "coverage['leader'].value_counts()"
   ]
  },
  {
   "cell_type": "code",
   "execution_count": 52,
   "metadata": {},
   "outputs": [
    {
     "name": "stdout",
     "output_type": "stream",
     "text": [
      "<class 'pandas.core.series.Series'>\n",
      "RangeIndex: 1942 entries, 0 to 1941\n",
      "Series name: sum_trump\n",
      "Non-Null Count  Dtype\n",
      "--------------  -----\n",
      "1942 non-null   int64\n",
      "dtypes: int64(1)\n",
      "memory usage: 15.3 KB\n"
     ]
    }
   ],
   "source": [
    "coverage['sum_trump'].info()"
   ]
  },
  {
   "cell_type": "code",
   "execution_count": 61,
   "metadata": {},
   "outputs": [],
   "source": [
    "df_2020 = pd.read_csv('data/coverage_area_results_2020.csv')"
   ]
  },
  {
   "cell_type": "code",
   "execution_count": 63,
   "metadata": {},
   "outputs": [
    {
     "data": {
      "text/html": [
       "<div>\n",
       "<style scoped>\n",
       "    .dataframe tbody tr th:only-of-type {\n",
       "        vertical-align: middle;\n",
       "    }\n",
       "\n",
       "    .dataframe tbody tr th {\n",
       "        vertical-align: top;\n",
       "    }\n",
       "\n",
       "    .dataframe thead th {\n",
       "        text-align: right;\n",
       "    }\n",
       "</style>\n",
       "<table border=\"1\" class=\"dataframe\">\n",
       "  <thead>\n",
       "    <tr style=\"text-align: right;\">\n",
       "      <th></th>\n",
       "      <th>VTD</th>\n",
       "      <th>total_votes</th>\n",
       "      <th>biden_votes</th>\n",
       "      <th>pct_biden</th>\n",
       "      <th>trump_votes</th>\n",
       "      <th>pct_trump</th>\n",
       "    </tr>\n",
       "  </thead>\n",
       "  <tbody>\n",
       "    <tr>\n",
       "      <th>0</th>\n",
       "      <td>2400301-001</td>\n",
       "      <td>1672</td>\n",
       "      <td>737</td>\n",
       "      <td>0.440789</td>\n",
       "      <td>893</td>\n",
       "      <td>0.534091</td>\n",
       "    </tr>\n",
       "    <tr>\n",
       "      <th>1</th>\n",
       "      <td>2400301-002</td>\n",
       "      <td>1418</td>\n",
       "      <td>655</td>\n",
       "      <td>0.461918</td>\n",
       "      <td>717</td>\n",
       "      <td>0.505642</td>\n",
       "    </tr>\n",
       "    <tr>\n",
       "      <th>2</th>\n",
       "      <td>2400301-003</td>\n",
       "      <td>1453</td>\n",
       "      <td>590</td>\n",
       "      <td>0.406056</td>\n",
       "      <td>822</td>\n",
       "      <td>0.565726</td>\n",
       "    </tr>\n",
       "    <tr>\n",
       "      <th>3</th>\n",
       "      <td>2400301-004</td>\n",
       "      <td>1539</td>\n",
       "      <td>911</td>\n",
       "      <td>0.591943</td>\n",
       "      <td>595</td>\n",
       "      <td>0.386615</td>\n",
       "    </tr>\n",
       "    <tr>\n",
       "      <th>4</th>\n",
       "      <td>2400301-005</td>\n",
       "      <td>1301</td>\n",
       "      <td>864</td>\n",
       "      <td>0.664105</td>\n",
       "      <td>401</td>\n",
       "      <td>0.308224</td>\n",
       "    </tr>\n",
       "  </tbody>\n",
       "</table>\n",
       "</div>"
      ],
      "text/plain": [
       "           VTD  total_votes  biden_votes  pct_biden  trump_votes  pct_trump\n",
       "0  2400301-001         1672          737   0.440789          893   0.534091\n",
       "1  2400301-002         1418          655   0.461918          717   0.505642\n",
       "2  2400301-003         1453          590   0.406056          822   0.565726\n",
       "3  2400301-004         1539          911   0.591943          595   0.386615\n",
       "4  2400301-005         1301          864   0.664105          401   0.308224"
      ]
     },
     "execution_count": 63,
     "metadata": {},
     "output_type": "execute_result"
    }
   ],
   "source": [
    "df_2020.head()"
   ]
  },
  {
   "cell_type": "code",
   "execution_count": 64,
   "metadata": {},
   "outputs": [],
   "source": [
    "# create new column for the 2020 data showing if biden or trump won\n",
    "\n",
    "df_2020['leader'] = np.where(df_2020['pct_biden'] > df_2020['pct_trump'], 'biden', 'trump')"
   ]
  },
  {
   "cell_type": "code",
   "execution_count": 66,
   "metadata": {},
   "outputs": [
    {
     "data": {
      "text/plain": [
       "leader\n",
       "biden    590\n",
       "trump    140\n",
       "Name: count, dtype: int64"
      ]
     },
     "execution_count": 66,
     "metadata": {},
     "output_type": "execute_result"
    }
   ],
   "source": [
    "df_2020['leader'].value_counts()"
   ]
  },
  {
   "cell_type": "code",
   "execution_count": 67,
   "metadata": {},
   "outputs": [],
   "source": [
    "# Around 500 precincts in the state of Maryland voted saw former President Donald Trump leading in the 2024 elections compared to the 140 precincts that Trump led in 2020. While Maryland remains a blue state, with Vice President Kamala Harris leading in nearly 1,400 precincts, the number of precincts that saw Trump improve his lead threefold in 2024. \n"
   ]
  }
 ],
 "metadata": {
  "kernelspec": {
   "display_name": "Python 3",
   "language": "python",
   "name": "python3"
  },
  "language_info": {
   "codemirror_mode": {
    "name": "ipython",
    "version": 3
   },
   "file_extension": ".py",
   "mimetype": "text/x-python",
   "name": "python",
   "nbconvert_exporter": "python",
   "pygments_lexer": "ipython3",
   "version": "3.9.6"
  }
 },
 "nbformat": 4,
 "nbformat_minor": 2
}
